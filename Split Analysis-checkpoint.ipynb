{
 "cells": [
  {
   "cell_type": "code",
   "execution_count": 1,
   "id": "aebd330c",
   "metadata": {},
   "outputs": [],
   "source": [
    "# Dependencies and Setup\n",
    "import pandas as pd\n",
    "import numpy as np\n",
    "import matplotlib.pyplot as plt"
   ]
  },
  {
   "cell_type": "code",
   "execution_count": 2,
   "id": "8cadc1b3",
   "metadata": {},
   "outputs": [],
   "source": [
    "# File to Load\n",
    "nasdaq_data = \"Resources/Main.csv\""
   ]
  },
  {
   "cell_type": "code",
   "execution_count": 3,
   "id": "d53d04c0",
   "metadata": {},
   "outputs": [
    {
     "data": {
      "text/html": [
       "<div>\n",
       "<style scoped>\n",
       "    .dataframe tbody tr th:only-of-type {\n",
       "        vertical-align: middle;\n",
       "    }\n",
       "\n",
       "    .dataframe tbody tr th {\n",
       "        vertical-align: top;\n",
       "    }\n",
       "\n",
       "    .dataframe thead th {\n",
       "        text-align: right;\n",
       "    }\n",
       "</style>\n",
       "<table border=\"1\" class=\"dataframe\">\n",
       "  <thead>\n",
       "    <tr style=\"text-align: right;\">\n",
       "      <th></th>\n",
       "      <th>Date</th>\n",
       "      <th>Open</th>\n",
       "      <th>High</th>\n",
       "      <th>Low</th>\n",
       "      <th>Close</th>\n",
       "      <th>Volume</th>\n",
       "      <th>Ex-Dividend</th>\n",
       "      <th>Split Ratio</th>\n",
       "      <th>Adj. Open</th>\n",
       "      <th>Adj. High</th>\n",
       "      <th>Adj. Low</th>\n",
       "      <th>Adj. Close</th>\n",
       "      <th>Adj. Volume</th>\n",
       "      <th>Company</th>\n",
       "      <th>Stock</th>\n",
       "    </tr>\n",
       "  </thead>\n",
       "  <tbody>\n",
       "    <tr>\n",
       "      <th>0</th>\n",
       "      <td>12/29/2017</td>\n",
       "      <td>170.52</td>\n",
       "      <td>170.5900</td>\n",
       "      <td>169.2200</td>\n",
       "      <td>169.230</td>\n",
       "      <td>25643711</td>\n",
       "      <td>0.0</td>\n",
       "      <td>1.0</td>\n",
       "      <td>170.52</td>\n",
       "      <td>170.5900</td>\n",
       "      <td>169.2200</td>\n",
       "      <td>169.230</td>\n",
       "      <td>25643711</td>\n",
       "      <td>Apple</td>\n",
       "      <td>AAPL</td>\n",
       "    </tr>\n",
       "    <tr>\n",
       "      <th>1</th>\n",
       "      <td>12/28/2017</td>\n",
       "      <td>171.00</td>\n",
       "      <td>171.8500</td>\n",
       "      <td>170.4800</td>\n",
       "      <td>171.080</td>\n",
       "      <td>15997739</td>\n",
       "      <td>0.0</td>\n",
       "      <td>1.0</td>\n",
       "      <td>171.00</td>\n",
       "      <td>171.8500</td>\n",
       "      <td>170.4800</td>\n",
       "      <td>171.080</td>\n",
       "      <td>15997739</td>\n",
       "      <td>Apple</td>\n",
       "      <td>AAPL</td>\n",
       "    </tr>\n",
       "    <tr>\n",
       "      <th>2</th>\n",
       "      <td>12/27/2017</td>\n",
       "      <td>170.10</td>\n",
       "      <td>170.7800</td>\n",
       "      <td>169.7100</td>\n",
       "      <td>170.600</td>\n",
       "      <td>21672062</td>\n",
       "      <td>0.0</td>\n",
       "      <td>1.0</td>\n",
       "      <td>170.10</td>\n",
       "      <td>170.7800</td>\n",
       "      <td>169.7100</td>\n",
       "      <td>170.600</td>\n",
       "      <td>21672062</td>\n",
       "      <td>Apple</td>\n",
       "      <td>AAPL</td>\n",
       "    </tr>\n",
       "    <tr>\n",
       "      <th>3</th>\n",
       "      <td>12/26/2017</td>\n",
       "      <td>170.80</td>\n",
       "      <td>171.4700</td>\n",
       "      <td>169.6790</td>\n",
       "      <td>170.570</td>\n",
       "      <td>32968167</td>\n",
       "      <td>0.0</td>\n",
       "      <td>1.0</td>\n",
       "      <td>170.80</td>\n",
       "      <td>171.4700</td>\n",
       "      <td>169.6790</td>\n",
       "      <td>170.570</td>\n",
       "      <td>32968167</td>\n",
       "      <td>Apple</td>\n",
       "      <td>AAPL</td>\n",
       "    </tr>\n",
       "    <tr>\n",
       "      <th>4</th>\n",
       "      <td>12/22/2017</td>\n",
       "      <td>174.68</td>\n",
       "      <td>175.4240</td>\n",
       "      <td>174.5000</td>\n",
       "      <td>175.010</td>\n",
       "      <td>16052615</td>\n",
       "      <td>0.0</td>\n",
       "      <td>1.0</td>\n",
       "      <td>174.68</td>\n",
       "      <td>175.4240</td>\n",
       "      <td>174.5000</td>\n",
       "      <td>175.010</td>\n",
       "      <td>16052615</td>\n",
       "      <td>Apple</td>\n",
       "      <td>AAPL</td>\n",
       "    </tr>\n",
       "    <tr>\n",
       "      <th>...</th>\n",
       "      <td>...</td>\n",
       "      <td>...</td>\n",
       "      <td>...</td>\n",
       "      <td>...</td>\n",
       "      <td>...</td>\n",
       "      <td>...</td>\n",
       "      <td>...</td>\n",
       "      <td>...</td>\n",
       "      <td>...</td>\n",
       "      <td>...</td>\n",
       "      <td>...</td>\n",
       "      <td>...</td>\n",
       "      <td>...</td>\n",
       "      <td>...</td>\n",
       "      <td>...</td>\n",
       "    </tr>\n",
       "    <tr>\n",
       "      <th>7533</th>\n",
       "      <td>1/8/2015</td>\n",
       "      <td>212.81</td>\n",
       "      <td>213.7999</td>\n",
       "      <td>210.0100</td>\n",
       "      <td>210.615</td>\n",
       "      <td>3442509</td>\n",
       "      <td>0.0</td>\n",
       "      <td>1.0</td>\n",
       "      <td>212.81</td>\n",
       "      <td>213.7999</td>\n",
       "      <td>210.0100</td>\n",
       "      <td>210.615</td>\n",
       "      <td>3442509</td>\n",
       "      <td>Tesla</td>\n",
       "      <td>TSLA</td>\n",
       "    </tr>\n",
       "    <tr>\n",
       "      <th>7534</th>\n",
       "      <td>1/7/2015</td>\n",
       "      <td>213.35</td>\n",
       "      <td>214.7800</td>\n",
       "      <td>209.7800</td>\n",
       "      <td>210.950</td>\n",
       "      <td>2968390</td>\n",
       "      <td>0.0</td>\n",
       "      <td>1.0</td>\n",
       "      <td>213.35</td>\n",
       "      <td>214.7800</td>\n",
       "      <td>209.7800</td>\n",
       "      <td>210.950</td>\n",
       "      <td>2968390</td>\n",
       "      <td>Tesla</td>\n",
       "      <td>TSLA</td>\n",
       "    </tr>\n",
       "    <tr>\n",
       "      <th>7535</th>\n",
       "      <td>1/6/2015</td>\n",
       "      <td>210.06</td>\n",
       "      <td>214.2000</td>\n",
       "      <td>204.2100</td>\n",
       "      <td>211.280</td>\n",
       "      <td>6261936</td>\n",
       "      <td>0.0</td>\n",
       "      <td>1.0</td>\n",
       "      <td>210.06</td>\n",
       "      <td>214.2000</td>\n",
       "      <td>204.2100</td>\n",
       "      <td>211.280</td>\n",
       "      <td>6261936</td>\n",
       "      <td>Tesla</td>\n",
       "      <td>TSLA</td>\n",
       "    </tr>\n",
       "    <tr>\n",
       "      <th>7536</th>\n",
       "      <td>1/5/2015</td>\n",
       "      <td>214.55</td>\n",
       "      <td>216.5000</td>\n",
       "      <td>207.1626</td>\n",
       "      <td>210.090</td>\n",
       "      <td>5368477</td>\n",
       "      <td>0.0</td>\n",
       "      <td>1.0</td>\n",
       "      <td>214.55</td>\n",
       "      <td>216.5000</td>\n",
       "      <td>207.1626</td>\n",
       "      <td>210.090</td>\n",
       "      <td>5368477</td>\n",
       "      <td>Tesla</td>\n",
       "      <td>TSLA</td>\n",
       "    </tr>\n",
       "    <tr>\n",
       "      <th>7537</th>\n",
       "      <td>1/2/2015</td>\n",
       "      <td>222.87</td>\n",
       "      <td>223.2500</td>\n",
       "      <td>213.2600</td>\n",
       "      <td>219.310</td>\n",
       "      <td>4764443</td>\n",
       "      <td>0.0</td>\n",
       "      <td>1.0</td>\n",
       "      <td>222.87</td>\n",
       "      <td>223.2500</td>\n",
       "      <td>213.2600</td>\n",
       "      <td>219.310</td>\n",
       "      <td>4764443</td>\n",
       "      <td>Tesla</td>\n",
       "      <td>TSLA</td>\n",
       "    </tr>\n",
       "  </tbody>\n",
       "</table>\n",
       "<p>7538 rows × 15 columns</p>\n",
       "</div>"
      ],
      "text/plain": [
       "            Date    Open      High       Low    Close    Volume  Ex-Dividend  \\\n",
       "0     12/29/2017  170.52  170.5900  169.2200  169.230  25643711          0.0   \n",
       "1     12/28/2017  171.00  171.8500  170.4800  171.080  15997739          0.0   \n",
       "2     12/27/2017  170.10  170.7800  169.7100  170.600  21672062          0.0   \n",
       "3     12/26/2017  170.80  171.4700  169.6790  170.570  32968167          0.0   \n",
       "4     12/22/2017  174.68  175.4240  174.5000  175.010  16052615          0.0   \n",
       "...          ...     ...       ...       ...      ...       ...          ...   \n",
       "7533    1/8/2015  212.81  213.7999  210.0100  210.615   3442509          0.0   \n",
       "7534    1/7/2015  213.35  214.7800  209.7800  210.950   2968390          0.0   \n",
       "7535    1/6/2015  210.06  214.2000  204.2100  211.280   6261936          0.0   \n",
       "7536    1/5/2015  214.55  216.5000  207.1626  210.090   5368477          0.0   \n",
       "7537    1/2/2015  222.87  223.2500  213.2600  219.310   4764443          0.0   \n",
       "\n",
       "      Split Ratio  Adj. Open  Adj. High  Adj. Low  Adj. Close  Adj. Volume  \\\n",
       "0             1.0     170.52   170.5900  169.2200     169.230     25643711   \n",
       "1             1.0     171.00   171.8500  170.4800     171.080     15997739   \n",
       "2             1.0     170.10   170.7800  169.7100     170.600     21672062   \n",
       "3             1.0     170.80   171.4700  169.6790     170.570     32968167   \n",
       "4             1.0     174.68   175.4240  174.5000     175.010     16052615   \n",
       "...           ...        ...        ...       ...         ...          ...   \n",
       "7533          1.0     212.81   213.7999  210.0100     210.615      3442509   \n",
       "7534          1.0     213.35   214.7800  209.7800     210.950      2968390   \n",
       "7535          1.0     210.06   214.2000  204.2100     211.280      6261936   \n",
       "7536          1.0     214.55   216.5000  207.1626     210.090      5368477   \n",
       "7537          1.0     222.87   223.2500  213.2600     219.310      4764443   \n",
       "\n",
       "     Company Stock  \n",
       "0      Apple  AAPL  \n",
       "1      Apple  AAPL  \n",
       "2      Apple  AAPL  \n",
       "3      Apple  AAPL  \n",
       "4      Apple  AAPL  \n",
       "...      ...   ...  \n",
       "7533   Tesla  TSLA  \n",
       "7534   Tesla  TSLA  \n",
       "7535   Tesla  TSLA  \n",
       "7536   Tesla  TSLA  \n",
       "7537   Tesla  TSLA  \n",
       "\n",
       "[7538 rows x 15 columns]"
      ]
     },
     "execution_count": 3,
     "metadata": {},
     "output_type": "execute_result"
    }
   ],
   "source": [
    "# Read Data File and store into Pandas DataFrames\n",
    "nasdaq_data_df = pd.read_csv(nasdaq_data)\n",
    "nasdaq_data_df"
   ]
  },
  {
   "cell_type": "code",
   "execution_count": 4,
   "id": "8701f3f9",
   "metadata": {},
   "outputs": [
    {
     "data": {
      "text/plain": [
       "array(['Apple', 'Amazon', 'Facebook', 'GameStop', 'Google', 'Microsoft',\n",
       "       'MicroStrategy', 'NetFlix', 'NVIDIA', 'Tesla'], dtype=object)"
      ]
     },
     "execution_count": 4,
     "metadata": {},
     "output_type": "execute_result"
    }
   ],
   "source": [
    "stock_data = nasdaq_data_df[\"Company\"].unique()\n",
    "stock_data"
   ]
  },
  {
   "cell_type": "code",
   "execution_count": 5,
   "id": "5ad3e275",
   "metadata": {},
   "outputs": [
    {
     "data": {
      "text/plain": [
       "array([1., 7.])"
      ]
     },
     "execution_count": 5,
     "metadata": {},
     "output_type": "execute_result"
    }
   ],
   "source": [
    "split_ratio = nasdaq_data_df[\"Split Ratio\"].unique()\n",
    "split_ratio"
   ]
  },
  {
   "cell_type": "code",
   "execution_count": 6,
   "id": "2d2777ff",
   "metadata": {},
   "outputs": [
    {
     "name": "stdout",
     "output_type": "stream",
     "text": [
      "A stock split occurred.\n"
     ]
    }
   ],
   "source": [
    "# Define split ratio data\n",
    "split_ratio = nasdaq_data_df[\"Split Ratio\"].unique()\n",
    "\n",
    "# Check for a stock split\n",
    "def check_for_split(split_ratio):\n",
    "    for ratio in split_ratio:\n",
    "        if ratio != 1:\n",
    "            return True\n",
    "    return False\n",
    "\n",
    "if check_for_split(split_ratio):\n",
    "    print(\"A stock split occurred.\")\n",
    "else:\n",
    "    print(\"No stock split detected.\")\n"
   ]
  },
  {
   "cell_type": "code",
   "execution_count": 7,
   "id": "e17e39dd",
   "metadata": {},
   "outputs": [],
   "source": [
    "grouped_stocks_df = nasdaq_data_df.groupby([\"Company\"])"
   ]
  },
  {
   "cell_type": "code",
   "execution_count": 8,
   "id": "8f00fe7a",
   "metadata": {},
   "outputs": [
    {
     "data": {
      "text/plain": [
       "Company\n",
       "Amazon           1.0\n",
       "Apple            1.0\n",
       "Facebook         1.0\n",
       "GameStop         1.0\n",
       "Google           1.0\n",
       "MicroStrategy    1.0\n",
       "Microsoft        1.0\n",
       "NVIDIA           1.0\n",
       "NetFlix          7.0\n",
       "Tesla            1.0\n",
       "Name: Split Ratio, dtype: float64"
      ]
     },
     "execution_count": 8,
     "metadata": {},
     "output_type": "execute_result"
    }
   ],
   "source": [
    "split_ratios = grouped_stocks_df[\"Split Ratio\"].max()\n",
    "split_ratios"
   ]
  },
  {
   "cell_type": "code",
   "execution_count": 9,
   "id": "d78ca495",
   "metadata": {},
   "outputs": [
    {
     "data": {
      "text/html": [
       "<div>\n",
       "<style scoped>\n",
       "    .dataframe tbody tr th:only-of-type {\n",
       "        vertical-align: middle;\n",
       "    }\n",
       "\n",
       "    .dataframe tbody tr th {\n",
       "        vertical-align: top;\n",
       "    }\n",
       "\n",
       "    .dataframe thead th {\n",
       "        text-align: right;\n",
       "    }\n",
       "</style>\n",
       "<table border=\"1\" class=\"dataframe\">\n",
       "  <thead>\n",
       "    <tr style=\"text-align: right;\">\n",
       "      <th></th>\n",
       "      <th>Date</th>\n",
       "      <th>Open</th>\n",
       "      <th>High</th>\n",
       "      <th>Low</th>\n",
       "      <th>Close</th>\n",
       "      <th>Volume</th>\n",
       "      <th>Ex-Dividend</th>\n",
       "      <th>Split Ratio</th>\n",
       "      <th>Adj. Open</th>\n",
       "      <th>Adj. High</th>\n",
       "      <th>Adj. Low</th>\n",
       "      <th>Adj. Close</th>\n",
       "      <th>Adj. Volume</th>\n",
       "      <th>Company</th>\n",
       "      <th>Stock</th>\n",
       "    </tr>\n",
       "  </thead>\n",
       "  <tbody>\n",
       "    <tr>\n",
       "      <th>5896</th>\n",
       "      <td>7/15/2015</td>\n",
       "      <td>99.97</td>\n",
       "      <td>100.75</td>\n",
       "      <td>97.05</td>\n",
       "      <td>98.13</td>\n",
       "      <td>30898594</td>\n",
       "      <td>0.0</td>\n",
       "      <td>7.0</td>\n",
       "      <td>99.97</td>\n",
       "      <td>100.75</td>\n",
       "      <td>97.05</td>\n",
       "      <td>98.13</td>\n",
       "      <td>30898594</td>\n",
       "      <td>NetFlix</td>\n",
       "      <td>NFLX</td>\n",
       "    </tr>\n",
       "  </tbody>\n",
       "</table>\n",
       "</div>"
      ],
      "text/plain": [
       "           Date   Open    High    Low  Close    Volume  Ex-Dividend  \\\n",
       "5896  7/15/2015  99.97  100.75  97.05  98.13  30898594          0.0   \n",
       "\n",
       "      Split Ratio  Adj. Open  Adj. High  Adj. Low  Adj. Close  Adj. Volume  \\\n",
       "5896          7.0      99.97     100.75     97.05       98.13     30898594   \n",
       "\n",
       "      Company Stock  \n",
       "5896  NetFlix  NFLX  "
      ]
     },
     "execution_count": 9,
     "metadata": {},
     "output_type": "execute_result"
    }
   ],
   "source": [
    "nflx_split_ratio = nasdaq_data_df[nasdaq_data_df[\"Split Ratio\"]>1.0]\n",
    "nflx_split_ratio"
   ]
  },
  {
   "cell_type": "code",
   "execution_count": 10,
   "id": "94e88b65",
   "metadata": {},
   "outputs": [
    {
     "data": {
      "image/png": "[encoded data removed]",
      "text/plain": [
       "<Figure size 800x600 with 1 Axes>"
      ]
     },
     "metadata": {},
     "output_type": "display_data"
    },
    {
     "data": {
      "text/plain": [
       "<Figure size 640x480 with 0 Axes>"
      ]
     },
     "metadata": {},
     "output_type": "display_data"
    }
   ],
   "source": [
    "# Configure plot, figsize, title, and axis labels\n",
    "figure1 = split_ratios.plot(kind=\"bar\", facecolor=\"blue\", figsize=(8,6),\n",
    "                                title=\"Split Ratio for Different Stocks\",\n",
    "                                xlabel=\"Company\",\n",
    "                                ylabel=\"Split Ratio (Max)\")\n",
    "\n",
    "# Configure x-tick rotation\n",
    "xticklabels = split_ratios.index\n",
    "figure1.set_xticklabels(xticklabels, rotation=45, rotation_mode=\"anchor\", ha=\"right\", wrap=True)\n",
    "\n",
    "# Show plot\n",
    "plt.show()\n",
    "\n",
    "# Resize plot to display labels\n",
    "plt.tight_layout()"
   ]
  },
  {
   "cell_type": "code",
   "execution_count": 13,
   "id": "b027572b",
   "metadata": {},
   "outputs": [
    {
     "name": "stdout",
     "output_type": "stream",
     "text": [
      "Date: 7/15/2015\n",
      "Stock: NFLX\n",
      "Average Price Change: 1.58%\n",
      "Average Volume Change: 1.77%\n"
     ]
    }
   ],
   "source": [
    "# Detect stock split events\n",
    "nflx_split_ratio = nasdaq_data_df[nasdaq_data_df[\"Split Ratio\"]>1.0]\n",
    "\n",
    "# Analyze the price and volume changes\n",
    "for index, row in nflx_split_ratio.iterrows():\n",
    "    split_date = row['Date']\n",
    "    stock_data = row['Stock']\n",
    "    pre_split_data = nasdaq_data_df[nasdaq_data_df['Date'] < split_date]\n",
    "    post_split_data = nasdaq_data_df[nasdaq_data_df['Date'] >= split_date]\n",
    "    \n",
    "    price_change = (post_split_data['Close'].mean() / pre_split_data['Close'].mean() - 1) * 100\n",
    "    volume_change = (post_split_data['Volume'].mean() / pre_split_data['Volume'].mean() - 1) * 100\n",
    "\n",
    "    print(f\"Date: {split_date}\")\n",
    "    print(f\"Stock: {stock_data}\")\n",
    "    print(f\"Average Price Change: {price_change:.2f}%\")\n",
    "    print(f\"Average Volume Change: {volume_change:.2f}%\")"
   ]
  },
  {
   "cell_type": "code",
   "execution_count": null,
   "id": "cd6a9513",
   "metadata": {},
   "outputs": [],
   "source": []
  }
 ],
 "metadata": {
  "kernelspec": {
   "display_name": "Python 3 (ipykernel)",
   "language": "python",
   "name": "python3"
  },
  "language_info": {
   "codemirror_mode": {
    "name": "ipython",
    "version": 3
   },
   "file_extension": ".py",
   "mimetype": "text/x-python",
   "name": "python",
   "nbconvert_exporter": "python",
   "pygments_lexer": "ipython3",
   "version": "3.11.5"
  }
 },
 "nbformat": 4,
 "nbformat_minor": 5
}
